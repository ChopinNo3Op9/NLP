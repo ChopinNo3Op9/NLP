{
  "cells": [
    {
      "cell_type": "markdown",
      "metadata": {
        "id": "faqhV7yy_dS-"
      },
      "source": [
        "# **Text Classification with fastText**\n",
        "This project is a continuation of my **[NLP Case Study](https://colab.research.google.com/github/shraddha-an/nlp/blob/main/word_embedding_classification.ipynb)** looking at different embeddings to classify the quality of Stack Overflow Questions.\n",
        "\n",
        "**Dataset**: **[Stack Overflow Questions](https://www.kaggle.com/imoore/60k-stack-overflow-questions-with-quality-rate)**\n",
        "\n",
        "\n",
        "Other models in this series:\n",
        "\n",
        "\n",
        "1.   [Training an Embedding](https://github.com/shraddha-an/nlp/blob/main/word_embedding_classification.ipynb)\n",
        "2.   [Pre-trained GloVe Embedding](https://github.com/shraddha-an/nlp/blob/main/pretrained_glove_classification.ipynb)\n",
        "3. [BERT Model](https://github.com/shraddha-an/nlp/blob/main/so_bert.ipynb)"
      ]
    },
    {
      "cell_type": "markdown",
      "metadata": {
        "id": "hqEzBKm9AyH0"
      },
      "source": [
        "## **Prerequisites:**\n",
        "\n",
        "**1) fastText**: fastText is an open-source library developed by the Facebook AI Research lab to achieve accurate and fast text classification on very large datasets.\n",
        "\n",
        "Follow **[these instructions](https://fasttext.cc/docs/en/supervised-tutorial.html)** to install fastText.\n",
        "\n",
        "\n"
      ]
    },
    {
      "cell_type": "markdown",
      "metadata": {
        "id": "XchpQdM_e6Bx"
      },
      "source": [
        "# **1) Installing fastText**\n"
      ]
    },
    {
      "cell_type": "code",
      "execution_count": 1,
      "metadata": {
        "id": "5burnjBudRG1"
      },
      "outputs": [
        {
          "name": "stderr",
          "output_type": "stream",
          "text": [
            "'wget' is not recognized as an internal or external command,\n",
            "operable program or batch file.\n"
          ]
        },
        {
          "name": "stdout",
          "output_type": "stream",
          "text": [
            "[WinError 2] The system cannot find the file specified: 'fastText-0.2.0'\n",
            "d:\\Cornell\\GitRepository\\NLP\\text classification\n"
          ]
        },
        {
          "name": "stderr",
          "output_type": "stream",
          "text": [
            "'unzip' is not recognized as an internal or external command,\n",
            "operable program or batch file.\n",
            "'make' is not recognized as an internal or external command,\n",
            "operable program or batch file.\n",
            "ERROR: Directory '.' is not installable. Neither 'setup.py' nor 'pyproject.toml' found.\n"
          ]
        }
      ],
      "source": [
        "# Installing & Building fastText\n",
        "!wget https://github.com/facebookresearch/fastText/archive/0.2.0.zip\n",
        "!unzip 0.2.0.zip\n",
        "%cd fastText-0.2.0\n",
        "!make\n",
        "\n",
        "# for python bindings\n",
        "!pip install ."
      ]
    },
    {
      "cell_type": "markdown",
      "metadata": {
        "id": "xY3zOx_KAUrf"
      },
      "source": [
        "## **2) Data Preprocessing**"
      ]
    },
    {
      "cell_type": "code",
      "execution_count": 2,
      "metadata": {
        "id": "u5Q9dsPi-doF"
      },
      "outputs": [
        {
          "ename": "ModuleNotFoundError",
          "evalue": "No module named 'fastText'",
          "output_type": "error",
          "traceback": [
            "\u001b[1;31m---------------------------------------------------------------------------\u001b[0m",
            "\u001b[1;31mModuleNotFoundError\u001b[0m                       Traceback (most recent call last)",
            "Cell \u001b[1;32mIn[2], line 9\u001b[0m\n\u001b[0;32m      6\u001b[0m \u001b[38;5;28;01mfrom\u001b[39;00m \u001b[38;5;21;01mgensim\u001b[39;00m\u001b[38;5;21;01m.\u001b[39;00m\u001b[38;5;21;01mutils\u001b[39;00m \u001b[38;5;28;01mimport\u001b[39;00m simple_preprocess\n\u001b[0;32m      8\u001b[0m \u001b[38;5;66;03m# fastText\u001b[39;00m\n\u001b[1;32m----> 9\u001b[0m \u001b[38;5;28;01mimport\u001b[39;00m \u001b[38;5;21;01mfastText\u001b[39;00m\n",
            "\u001b[1;31mModuleNotFoundError\u001b[0m: No module named 'fastText'"
          ]
        }
      ],
      "source": [
        "# Importing the required libraries\n",
        "# Data Manipulation/Handling\n",
        "import numpy as np, pandas as pd\n",
        "\n",
        "# NLP Preprocessing\n",
        "from gensim.utils import simple_preprocess\n",
        "\n",
        "# fastText\n",
        "import fastText"
      ]
    },
    {
      "cell_type": "code",
      "execution_count": null,
      "metadata": {
        "id": "6GyzsxQcBham"
      },
      "outputs": [],
      "source": [
        "# Importing training & testing datasets & renaming columns\n",
        "dataset = pd.read_csv('train.csv')[['Body', 'Y']].rename(columns = {'Body': 'questions', 'Y': 'category'})\n",
        "ds = pd.read_csv('valid.csv')[['Body', 'Y']].rename(columns = {'Body': 'questions', 'Y': 'category'})\n"
      ]
    },
    {
      "cell_type": "code",
      "execution_count": null,
      "metadata": {
        "id": "zhJDDBp6B1yz"
      },
      "outputs": [],
      "source": [
        "# Simple NLP Preprocessing to get rid of unwanted characters\n",
        "dataset.iloc[:, 0] = dataset.iloc[:, 0].apply(lambda x: ' '.join(simple_preprocess(x)))\n",
        "ds.iloc[:, 0] = ds.iloc[:, 0].apply(lambda x: ' '.join(simple_preprocess(x)))"
      ]
    },
    {
      "cell_type": "code",
      "execution_count": null,
      "metadata": {
        "id": "xKg_0WDMBqzO"
      },
      "outputs": [],
      "source": [
        "# Prefixing each row of categories with '__label__'\n",
        "dataset.iloc[:, 1] = dataset.iloc[:, 1].apply(lambda x: '__label__' + x)\n",
        "ds.iloc[:, 1] = ds.iloc[:, 1].apply(lambda x: '__label__' + x)\n"
      ]
    },
    {
      "cell_type": "code",
      "execution_count": null,
      "metadata": {
        "colab": {
          "base_uri": "https://localhost:8080/"
        },
        "id": "ab8lMpgvB_7w",
        "outputId": "f22e8522-2f96-4c8f-d3b2-7409483b3f2f"
      },
      "outputs": [
        {
          "data": {
            "text/plain": [
              "(           category                                          questions\n",
              " 0  __label__LQ_EDIT  am having different tables like select from sy...\n",
              " 1  __label__LQ_EDIT  have two table m_master and tbl_appointment th...\n",
              " 2       __label__HQ  trying to extract us states from wiki url and ...\n",
              " 3  __label__LQ_EDIT  so new to wanna make an application that can e...\n",
              " 4  __label__LQ_EDIT  basically have this array array array sub comp...,\n",
              "                 category                                          questions\n",
              " 44996  __label__LQ_CLOSE  am working on learning python and was wonderin...\n",
              " 44997  __label__LQ_CLOSE  it looks like it costs days per month in azure...\n",
              " 44998  __label__LQ_CLOSE  any questions want to implement quiz that clic...\n",
              " 44999  __label__LQ_CLOSE  very new to programming and teaching myself ma...)"
            ]
          },
          "execution_count": 6,
          "metadata": {
            "tags": []
          },
          "output_type": "execute_result"
        }
      ],
      "source": [
        "# Flipping the column positions as needed by fastText: __label__cat1 Text\n",
        "dataset = dataset[['category', 'questions']]\n",
        "ds = ds[['category', 'questions']]\n",
        "\n",
        "# Looking at the DataFrames\n",
        "ds.head(5), dataset.tail(4)"
      ]
    },
    {
      "cell_type": "code",
      "execution_count": null,
      "metadata": {
        "id": "gpWkV5ODCKM_"
      },
      "outputs": [],
      "source": [
        "# Saving the CSV file as a txt file\n",
        "dataset.to_csv('train.txt', index = False, sep = ' ', header = None)\n",
        "ds.to_csv('test.txt', index = False, sep = ' ', header = None)\n"
      ]
    },
    {
      "cell_type": "markdown",
      "metadata": {
        "id": "qL2VnYEhCNtU"
      },
      "source": [
        "## **3) Training fastText**"
      ]
    },
    {
      "cell_type": "code",
      "execution_count": null,
      "metadata": {
        "id": "Hw5yXPOiCNCa"
      },
      "outputs": [],
      "source": [
        "# Training the fastText classifier\n",
        "model = fastText.train_supervised('train.txt', wordNgrams = 2, epoch = 20)"
      ]
    },
    {
      "cell_type": "markdown",
      "metadata": {
        "id": "H_DaVNgCCWjK"
      },
      "source": [
        "## **4) Evaluating fastText**"
      ]
    },
    {
      "cell_type": "code",
      "execution_count": null,
      "metadata": {
        "colab": {
          "base_uri": "https://localhost:8080/"
        },
        "id": "NsFvdBSOCcK7",
        "outputId": "cab8f375-8833-4ea3-9d62-b0caff9df00d"
      },
      "outputs": [
        {
          "data": {
            "text/plain": [
              "(15000, 0.8256, 0.8256)"
            ]
          },
          "execution_count": 26,
          "metadata": {
            "tags": []
          },
          "output_type": "execute_result"
        }
      ],
      "source": [
        "# Evaluating fastText's performance on test set\n",
        "model.test('test.txt')"
      ]
    }
  ],
  "metadata": {
    "colab": {
      "authorship_tag": "ABX9TyPQLxIipljDv23+BmZ1BW5Q",
      "collapsed_sections": [],
      "include_colab_link": true,
      "name": "so_fasttext.ipynb",
      "provenance": []
    },
    "kernelspec": {
      "display_name": "Python 3",
      "name": "python3"
    },
    "language_info": {
      "codemirror_mode": {
        "name": "ipython",
        "version": 3
      },
      "file_extension": ".py",
      "mimetype": "text/x-python",
      "name": "python",
      "nbconvert_exporter": "python",
      "pygments_lexer": "ipython3",
      "version": "3.9.18"
    }
  },
  "nbformat": 4,
  "nbformat_minor": 0
}
