{
  "cells": [
    {
      "cell_type": "markdown",
      "metadata": {},
      "source": [
        "keras-2.15.0 tensorflow-2.15.0"
      ]
    },
    {
      "cell_type": "markdown",
      "metadata": {
        "id": "BmwRePl_nOB4"
      },
      "source": [
        "## **Introduction**\n",
        "\n",
        "Classify on Stack Overflow into 3 categories depending on their quality.\n",
        "\n",
        "This Case Study outlines 2 techniques to achieve the task of text classification:\n",
        "\n",
        "1.   Training Word Embedding\n",
        "2.   [Pretrained GloVe Word Embeddings](https://github.com/shraddha-an/nlp/blob/main/pretrained_glove_classification.ipynb)\n",
        "3.   [fastText Classifier](https://github.com/shraddha-an/nlp/blob/main/so_fasttext.ipynb)\n",
        "\n",
        "**Dataset**: [Stack Overflow Questions](https://www.kaggle.com/imoore/60k-stack-overflow-questions-with-quality-rate)\n",
        "\n",
        "This is a dataset containing 60,000 Stack Overflow questions from 2016-2020. Questions are classified into three categories:\n",
        "\n",
        "HQ: High-quality posts without a single edit.  \n",
        "LQ_EDIT: Low-quality posts with a negative score, and multiple community edits. However, they still remain open after those changes.  \n",
        "LQ_CLOSE: Low-quality posts that were closed by the community without a single edit.\n"
      ]
    },
    {
      "cell_type": "markdown",
      "metadata": {
        "id": "-JJfG7f2ok57"
      },
      "source": [
        "## 1) **Data Preparation**"
      ]
    },
    {
      "cell_type": "code",
      "execution_count": 1,
      "metadata": {
        "id": "9TXLaHOnmdBY"
      },
      "outputs": [],
      "source": [
        "# Importing libraries\n",
        "# Data Manipulation/ Handling\n",
        "import pandas as pd, numpy as np\n",
        "\n",
        "# Visualization\n",
        "import seaborn as sb, matplotlib.pyplot as plt\n",
        "\n",
        "# NLP libraries\n",
        "import re\n",
        "from nltk.corpus import stopwords\n",
        "from gensim.utils import simple_preprocess"
      ]
    },
    {
      "cell_type": "code",
      "execution_count": 2,
      "metadata": {
        "id": "P7X-jWkho0IT"
      },
      "outputs": [],
      "source": [
        "# Importing training & testing datasets\n",
        "dataset = pd.read_csv('data/train.csv')[['Body', 'Y']].rename(columns = {'Body': 'question', 'Y': 'category'})\n",
        "ds = pd.read_csv('data/valid.csv')[['Body', 'Y']].rename(columns = {'Body': 'question', 'Y': 'category'})"
      ]
    },
    {
      "cell_type": "markdown",
      "metadata": {
        "id": "YZPixtSjpU6W"
      },
      "source": [
        "## **2) Preprocessing**"
      ]
    },
    {
      "cell_type": "code",
      "execution_count": 3,
      "metadata": {
        "id": "HYw0IZIOo70V"
      },
      "outputs": [],
      "source": [
        "# Removing symbols, stopwords, punctuation\n",
        "stop_words = set(stopwords.words('english'))\n",
        "\n",
        "symbols = re.compile(pattern = '[/<>(){}\\[\\]\\|@,;]')\n",
        "tags = ['href', 'http', 'https', 'www']\n",
        "\n",
        "def text_clean(s: str) -> str:\n",
        "    \"\"\"\n",
        "    Removes unwanted symbols, punctuation and stop words from a given string.\n",
        "    \"\"\"\n",
        "    s = symbols.sub(' ', s)\n",
        "    for i in tags:\n",
        "        s = s.replace(i, ' ')\n",
        "    cleaned_text = ' '.join(word for word in simple_preprocess(s, deacc = True) if not word in stop_words)\n",
        "    return cleaned_text\n",
        "\n",
        "# Applying the function on the questions column\n",
        "dataset.iloc[:, 0] = dataset.iloc[:, 0].apply(text_clean)\n",
        "ds.iloc[:, 0] = ds.iloc[:, 0].apply(text_clean)\n",
        "\n",
        "# Train & Test subsets\n",
        "X_train, y_train = dataset.iloc[:, 0].values, dataset.iloc[:, 1].values.reshape(-1, 1)\n",
        "X_test, y_test = ds.iloc[:, 0].values, ds.iloc[:, 1].values.reshape(-1, 1)"
      ]
    },
    {
      "cell_type": "markdown",
      "metadata": {
        "id": "aePnEQ11tokf"
      },
      "source": [
        "## **3) Categorical Encoding**"
      ]
    },
    {
      "cell_type": "code",
      "execution_count": 4,
      "metadata": {
        "id": "kfqV81XPqUJt"
      },
      "outputs": [],
      "source": [
        "# One Hot Encoding the Categories Column\n",
        "from sklearn.preprocessing import OneHotEncoder as ohe\n",
        "from sklearn.compose import ColumnTransformer\n",
        "\n",
        "ct = ColumnTransformer(transformers = [('one_hot_encoder', ohe(categories = 'auto'), [0])],\n",
        "                       remainder = 'passthrough')\n",
        "\n",
        "y_train = ct.fit_transform(y_train)\n",
        "y_test = ct.transform(y_test)"
      ]
    },
    {
      "cell_type": "code",
      "execution_count": 5,
      "metadata": {},
      "outputs": [
        {
          "data": {
            "text/plain": [
              "array([[0., 1., 0.],\n",
              "       [1., 0., 0.],\n",
              "       [1., 0., 0.],\n",
              "       ...,\n",
              "       [0., 1., 0.],\n",
              "       [0., 1., 0.],\n",
              "       [0., 1., 0.]])"
            ]
          },
          "execution_count": 5,
          "metadata": {},
          "output_type": "execute_result"
        }
      ],
      "source": [
        "y_train"
      ]
    },
    {
      "cell_type": "markdown",
      "metadata": {
        "id": "JWo1SnLXtzv3"
      },
      "source": [
        "## **4) Tokenization**"
      ]
    },
    {
      "cell_type": "markdown",
      "metadata": {},
      "source": [
        "There are some key parameters that have to be decided upon before training our network. These include the size of the vocabulary or the number of unique words in our corpus and the dimension of our embedded vectors."
      ]
    },
    {
      "cell_type": "code",
      "execution_count": 6,
      "metadata": {
        "id": "c_BOIy-qtuP_"
      },
      "outputs": [
        {
          "name": "stdout",
          "output_type": "stream",
          "text": [
            "WARNING:tensorflow:From c:\\Users\\Steven\\anaconda3\\envs\\tf\\lib\\site-packages\\keras\\src\\losses.py:2976: The name tf.losses.sparse_softmax_cross_entropy is deprecated. Please use tf.compat.v1.losses.sparse_softmax_cross_entropy instead.\n",
            "\n"
          ]
        }
      ],
      "source": [
        "# Vectorizing our text corpus of questions\n",
        "# Setting some paramters\n",
        "vocab_size = 2100\n",
        "sequence_length = 300\n",
        "\n",
        "# Tokenization with keras\n",
        "from keras.preprocessing.text import Tokenizer\n",
        "\n",
        "tk = Tokenizer(num_words = vocab_size)\n",
        "tk.fit_on_texts(X_train)\n",
        "\n",
        "X_train = tk.texts_to_sequences(X_train)  # convert sentences into a list of numbers representing words\n",
        "X_test = tk.texts_to_sequences(X_test)\n",
        "\n",
        "# Padding all questions with zeros\n",
        "from keras.preprocessing.sequence import pad_sequences\n",
        "\n",
        "X_train_seq = pad_sequences(X_train, maxlen = sequence_length, padding = 'post')  # set to he length of the longest question in the dataset.\n",
        "X_test_seq = pad_sequences(X_test, maxlen = sequence_length, padding = 'post')"
      ]
    },
    {
      "cell_type": "code",
      "execution_count": 7,
      "metadata": {},
      "outputs": [
        {
          "data": {
            "text/plain": [
              "array([[ 327,  767,  293, ...,    0,    0,    0],\n",
              "       [  20,  248,   15, ...,    0,    0,    0],\n",
              "       [1283, 1091,   29, ...,  232,    1,    4],\n",
              "       ...,\n",
              "       [ 386,   20,  761, ...,    0,    0,    0],\n",
              "       [ 363,   22,  604, ...,    0,    0,    0],\n",
              "       [  10,  812,  572, ...,    0,    0,    0]])"
            ]
          },
          "execution_count": 7,
          "metadata": {},
          "output_type": "execute_result"
        }
      ],
      "source": [
        "X_train_seq"
      ]
    },
    {
      "cell_type": "markdown",
      "metadata": {
        "id": "akQ5PmeYubxT"
      },
      "source": [
        "## **5) Embedding Model**\n"
      ]
    },
    {
      "cell_type": "markdown",
      "metadata": {},
      "source": [
        "Build and train our model which consists of 2 main layers, an Embedding layer that will learn from our training documents prepared above and a Dense output layer to implement the classification task."
      ]
    },
    {
      "cell_type": "code",
      "execution_count": 8,
      "metadata": {
        "id": "WOETV7ivujNm"
      },
      "outputs": [
        {
          "name": "stdout",
          "output_type": "stream",
          "text": [
            "WARNING:tensorflow:From c:\\Users\\Steven\\anaconda3\\envs\\tf\\lib\\site-packages\\keras\\src\\backend.py:873: The name tf.get_default_graph is deprecated. Please use tf.compat.v1.get_default_graph instead.\n",
            "\n",
            "WARNING:tensorflow:From c:\\Users\\Steven\\anaconda3\\envs\\tf\\lib\\site-packages\\keras\\src\\optimizers\\__init__.py:309: The name tf.train.Optimizer is deprecated. Please use tf.compat.v1.train.Optimizer instead.\n",
            "\n",
            "Model: \"sequential\"\n",
            "_________________________________________________________________\n",
            " Layer (type)                Output Shape              Param #   \n",
            "=================================================================\n",
            " embedding (Embedding)       (None, 300, 5)            10500     \n",
            "                                                                 \n",
            " flatten (Flatten)           (None, 1500)              0         \n",
            "                                                                 \n",
            " dense (Dense)               (None, 3)                 4503      \n",
            "                                                                 \n",
            "=================================================================\n",
            "Total params: 15003 (58.61 KB)\n",
            "Trainable params: 15003 (58.61 KB)\n",
            "Non-trainable params: 0 (0.00 Byte)\n",
            "_________________________________________________________________\n",
            "Epoch 1/20\n",
            "WARNING:tensorflow:From c:\\Users\\Steven\\anaconda3\\envs\\tf\\lib\\site-packages\\keras\\src\\utils\\tf_utils.py:492: The name tf.ragged.RaggedTensorValue is deprecated. Please use tf.compat.v1.ragged.RaggedTensorValue instead.\n",
            "\n",
            "WARNING:tensorflow:From c:\\Users\\Steven\\anaconda3\\envs\\tf\\lib\\site-packages\\keras\\src\\engine\\base_layer_utils.py:384: The name tf.executing_eagerly_outside_functions is deprecated. Please use tf.compat.v1.executing_eagerly_outside_functions instead.\n",
            "\n",
            "88/88 [==============================] - 2s 9ms/step - loss: 1.0183 - accuracy: 0.4725\n",
            "Epoch 2/20\n",
            "88/88 [==============================] - 1s 9ms/step - loss: 0.7616 - accuracy: 0.6788\n",
            "Epoch 3/20\n",
            "88/88 [==============================] - 1s 9ms/step - loss: 0.6149 - accuracy: 0.7496\n",
            "Epoch 4/20\n",
            "88/88 [==============================] - 1s 9ms/step - loss: 0.5367 - accuracy: 0.7817\n",
            "Epoch 5/20\n",
            "88/88 [==============================] - 1s 9ms/step - loss: 0.4917 - accuracy: 0.7982\n",
            "Epoch 6/20\n",
            "88/88 [==============================] - 1s 10ms/step - loss: 0.4631 - accuracy: 0.8087\n",
            "Epoch 7/20\n",
            "88/88 [==============================] - 1s 10ms/step - loss: 0.4425 - accuracy: 0.8170\n",
            "Epoch 8/20\n",
            "88/88 [==============================] - 1s 9ms/step - loss: 0.4264 - accuracy: 0.8235\n",
            "Epoch 9/20\n",
            "88/88 [==============================] - 1s 9ms/step - loss: 0.4141 - accuracy: 0.8283\n",
            "Epoch 10/20\n",
            "88/88 [==============================] - 1s 9ms/step - loss: 0.4033 - accuracy: 0.8326\n",
            "Epoch 11/20\n",
            "88/88 [==============================] - 1s 9ms/step - loss: 0.3942 - accuracy: 0.8356\n",
            "Epoch 12/20\n",
            "88/88 [==============================] - 1s 9ms/step - loss: 0.3875 - accuracy: 0.8390\n",
            "Epoch 13/20\n",
            "88/88 [==============================] - 1s 9ms/step - loss: 0.3800 - accuracy: 0.8428\n",
            "Epoch 14/20\n",
            "88/88 [==============================] - 1s 9ms/step - loss: 0.3747 - accuracy: 0.8436\n",
            "Epoch 15/20\n",
            "88/88 [==============================] - 1s 10ms/step - loss: 0.3688 - accuracy: 0.8464\n",
            "Epoch 16/20\n",
            "88/88 [==============================] - 1s 9ms/step - loss: 0.3653 - accuracy: 0.8478\n",
            "Epoch 17/20\n",
            "88/88 [==============================] - 1s 10ms/step - loss: 0.3595 - accuracy: 0.8507\n",
            "Epoch 18/20\n",
            "88/88 [==============================] - 1s 9ms/step - loss: 0.3551 - accuracy: 0.8528\n",
            "Epoch 19/20\n",
            "88/88 [==============================] - 1s 10ms/step - loss: 0.3516 - accuracy: 0.8547\n",
            "Epoch 20/20\n",
            "88/88 [==============================] - 1s 9ms/step - loss: 0.3477 - accuracy: 0.8556\n"
          ]
        }
      ],
      "source": [
        "# Building & Training the model\n",
        "from keras.models import Sequential\n",
        "from keras.layers import Embedding, Dense, Flatten\n",
        "\n",
        "model = Sequential()\n",
        "model.add(Embedding(input_dim = vocab_size, output_dim = 5 , input_length = sequence_length))\n",
        "model.add(Flatten())\n",
        "model.add(Dense(units = 3, activation = 'softmax'))\n",
        "model.compile(loss = 'categorical_crossentropy',\n",
        "              optimizer = 'adam', # rmsprop\n",
        "              metrics = ['accuracy'])\n",
        "\n",
        "model.summary()\n",
        "\n",
        "history = model.fit(X_train_seq, y_train, epochs = 20, batch_size = 512, verbose = 1)"
      ]
    },
    {
      "cell_type": "markdown",
      "metadata": {
        "id": "Rwj1yehSurIk"
      },
      "source": [
        "## **6) Evaluating Performance**"
      ]
    },
    {
      "cell_type": "code",
      "execution_count": 9,
      "metadata": {
        "id": "b9yMSuLbuqdH"
      },
      "outputs": [
        {
          "name": "stdout",
          "output_type": "stream",
          "text": [
            "469/469 [==============================] - 1s 1ms/step - loss: 0.4618 - accuracy: 0.8048\n",
            "\n",
            "Accuracy: 0.8047999739646912\n",
            "Loss: 0.4617760181427002\n"
          ]
        }
      ],
      "source": [
        "# Evaluating model performance on test set\n",
        "loss, accuracy = model.evaluate(X_test_seq, y_test, verbose = 1)\n",
        "print(\"\\nAccuracy: {}\\nLoss: {}\".format(accuracy, loss))\n",
        "\n",
        "# Save the model\n",
        "#model.save('mdl_80.h5')\n",
        "\n",
        "# Loading a saved model\n",
        "#from keras.models import load_model\n",
        "#model = load_model('mdl_80.h5')"
      ]
    },
    {
      "cell_type": "code",
      "execution_count": 10,
      "metadata": {
        "id": "7nPDD_MTu091"
      },
      "outputs": [
        {
          "data": {
            "image/png": "[encoded data removed]",
            "text/plain": [
              "<Figure size 800x800 with 1 Axes>"
            ]
          },
          "metadata": {},
          "output_type": "display_data"
        },
        {
          "data": {
            "image/png": "[encoded data removed]",
            "text/plain": [
              "<Figure size 800x800 with 1 Axes>"
            ]
          },
          "metadata": {},
          "output_type": "display_data"
        }
      ],
      "source": [
        "# Plotting Accuracy & Loss over epochs\n",
        "sb.set_style('darkgrid')\n",
        "\n",
        "# 1) Accuracy\n",
        "plt.figure(figsize = (8, 8))\n",
        "plt.plot(history.history['accuracy'], label = 'training', color = '#003399')\n",
        "plt.legend(shadow = True, loc = 'lower right')\n",
        "plt.title('Accuracy Plot over Epochs')\n",
        "plt.show()\n",
        "\n",
        "# 2) Loss\n",
        "plt.figure(figsize = (8, 8))\n",
        "plt.plot(history.history['loss'], label = 'training loss', color = '#FF0033')\n",
        "plt.legend(shadow = True, loc = 'upper right')\n",
        "plt.title('Loss Plot over Epochs')\n",
        "plt.show()"
      ]
    }
  ],
  "metadata": {
    "colab": {
      "authorship_tag": "ABX9TyOig2EHUzd7G7EmqpnPHukI",
      "collapsed_sections": [],
      "include_colab_link": true,
      "name": "word_embedding_classification.ipynb",
      "provenance": []
    },
    "kernelspec": {
      "display_name": "Python 3",
      "name": "python3"
    },
    "language_info": {
      "codemirror_mode": {
        "name": "ipython",
        "version": 3
      },
      "file_extension": ".py",
      "mimetype": "text/x-python",
      "name": "python",
      "nbconvert_exporter": "python",
      "pygments_lexer": "ipython3",
      "version": "3.9.18"
    }
  },
  "nbformat": 4,
  "nbformat_minor": 0
}
