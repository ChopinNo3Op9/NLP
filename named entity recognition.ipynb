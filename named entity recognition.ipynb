{
 "cells": [
  {
   "cell_type": "code",
   "execution_count": null,
   "metadata": {},
   "outputs": [],
   "source": [
    "import nltk\n",
    "from nltk import word_tokenize, pos_tag, ne_chunk"
   ]
  },
  {
   "cell_type": "code",
   "execution_count": 29,
   "metadata": {},
   "outputs": [
    {
     "name": "stdout",
     "output_type": "stream",
     "text": [
      "NNP - PERSON\n",
      "NNP - ORGANIZATION\n",
      "('was', 'VBD')\n",
      "('founded', 'VBN')\n",
      "('by', 'IN')\n",
      "NNP NNP - PERSON\n",
      "(',', ',')\n",
      "NNP NNP - PERSON\n",
      "(',', ',')\n",
      "('and', 'CC')\n",
      "NNP NNP - PERSON\n",
      "('on', 'IN')\n",
      "('April', 'NNP')\n",
      "('1', 'CD')\n",
      "(',', ',')\n",
      "('1976', 'CD')\n",
      "(',', ',')\n",
      "('in', 'IN')\n",
      "NNP - GPE\n",
      "(',', ',')\n",
      "NNP - GPE\n",
      "('.', '.')\n",
      "('It', 'PRP')\n",
      "('is', 'VBZ')\n",
      "('a', 'DT')\n",
      "('multinational', 'JJ')\n",
      "('technology', 'NN')\n",
      "('company', 'NN')\n",
      "('headquartered', 'VBD')\n",
      "('in', 'IN')\n",
      "NNP - GPE\n",
      "('.', '.')\n",
      "('The', 'DT')\n",
      "NN - ORGANIZATION\n",
      "(',', ',')\n",
      "NN - ORGANIZATION\n",
      "(',', ',')\n",
      "('and', 'CC')\n",
      "NNP - ORGANIZATION\n",
      "('are', 'VBP')\n",
      "('popular', 'JJ')\n",
      "('products', 'NNS')\n",
      "('manufactured', 'VBN')\n",
      "('by', 'IN')\n",
      "NNP - PERSON\n",
      "('.', '.')\n"
     ]
    },
    {
     "name": "stderr",
     "output_type": "stream",
     "text": [
      "[nltk_data] Downloading package punkt to\n",
      "[nltk_data]     C:\\Users\\Steven\\AppData\\Roaming\\nltk_data...\n",
      "[nltk_data]   Package punkt is already up-to-date!\n",
      "[nltk_data] Downloading package maxent_ne_chunker to\n",
      "[nltk_data]     C:\\Users\\Steven\\AppData\\Roaming\\nltk_data...\n",
      "[nltk_data]   Package maxent_ne_chunker is already up-to-date!\n",
      "[nltk_data] Downloading package words to\n",
      "[nltk_data]     C:\\Users\\Steven\\AppData\\Roaming\\nltk_data...\n",
      "[nltk_data]   Package words is already up-to-date!\n"
     ]
    }
   ],
   "source": [
    "# Download NLTK resources (if not already downloaded)\n",
    "nltk.download('punkt')\n",
    "nltk.download('maxent_ne_chunker')\n",
    "nltk.download('words')\n",
    "\n",
    "# Sample text\n",
    "text = (\n",
    "    \"Apple Inc. was founded by Steve Jobs, Steve Wozniak, and Ronald Wayne on April 1, 1976, \"\n",
    "    \"in Cupertino, California. It is a multinational technology company headquartered in \"\n",
    "    \"Cupertino. The iPhone, iPad, and Mac are popular products manufactured by Apple.\"\n",
    ")\n",
    "\n",
    "# Tokenize and perform part-of-speech tagging\n",
    "tokens = word_tokenize(text)\n",
    "pos_tags = pos_tag(tokens)\n",
    "\n",
    "# Perform Named Entity Recognition, tree structure representing named entity chunks.\n",
    "ner_tree = ne_chunk(pos_tags)\n",
    "\n",
    "# Print the named entities\n",
    "for entity in ner_tree:\n",
    "    if isinstance(entity, tuple):\n",
    "        # Print non-entity tokens\n",
    "        print(entity)\n",
    "    else:\n",
    "        # Print named entities with their labels\n",
    "        label = ' '.join(c[1] for c in entity.leaves())\n",
    "        print(f\"{label} - {entity.label()}\")\n"
   ]
  },
  {
   "cell_type": "code",
   "execution_count": 30,
   "metadata": {},
   "outputs": [
    {
     "data": {
      "text/plain": [
       "['Apple',\n",
       " 'Inc.',\n",
       " 'was',\n",
       " 'founded',\n",
       " 'by',\n",
       " 'Steve',\n",
       " 'Jobs',\n",
       " ',',\n",
       " 'Steve',\n",
       " 'Wozniak',\n",
       " ',',\n",
       " 'and',\n",
       " 'Ronald',\n",
       " 'Wayne',\n",
       " 'on',\n",
       " 'April',\n",
       " '1',\n",
       " ',',\n",
       " '1976',\n",
       " ',',\n",
       " 'in',\n",
       " 'Cupertino',\n",
       " ',',\n",
       " 'California',\n",
       " '.',\n",
       " 'It',\n",
       " 'is',\n",
       " 'a',\n",
       " 'multinational',\n",
       " 'technology',\n",
       " 'company',\n",
       " 'headquartered',\n",
       " 'in',\n",
       " 'Cupertino',\n",
       " '.',\n",
       " 'The',\n",
       " 'iPhone',\n",
       " ',',\n",
       " 'iPad',\n",
       " ',',\n",
       " 'and',\n",
       " 'Mac',\n",
       " 'are',\n",
       " 'popular',\n",
       " 'products',\n",
       " 'manufactured',\n",
       " 'by',\n",
       " 'Apple',\n",
       " '.']"
      ]
     },
     "execution_count": 30,
     "metadata": {},
     "output_type": "execute_result"
    }
   ],
   "source": [
    "tokens"
   ]
  },
  {
   "cell_type": "code",
   "execution_count": 31,
   "metadata": {},
   "outputs": [
    {
     "data": {
      "text/plain": [
       "[('Apple', 'NNP'),\n",
       " ('Inc.', 'NNP'),\n",
       " ('was', 'VBD'),\n",
       " ('founded', 'VBN'),\n",
       " ('by', 'IN'),\n",
       " ('Steve', 'NNP'),\n",
       " ('Jobs', 'NNP'),\n",
       " (',', ','),\n",
       " ('Steve', 'NNP'),\n",
       " ('Wozniak', 'NNP'),\n",
       " (',', ','),\n",
       " ('and', 'CC'),\n",
       " ('Ronald', 'NNP'),\n",
       " ('Wayne', 'NNP'),\n",
       " ('on', 'IN'),\n",
       " ('April', 'NNP'),\n",
       " ('1', 'CD'),\n",
       " (',', ','),\n",
       " ('1976', 'CD'),\n",
       " (',', ','),\n",
       " ('in', 'IN'),\n",
       " ('Cupertino', 'NNP'),\n",
       " (',', ','),\n",
       " ('California', 'NNP'),\n",
       " ('.', '.'),\n",
       " ('It', 'PRP'),\n",
       " ('is', 'VBZ'),\n",
       " ('a', 'DT'),\n",
       " ('multinational', 'JJ'),\n",
       " ('technology', 'NN'),\n",
       " ('company', 'NN'),\n",
       " ('headquartered', 'VBD'),\n",
       " ('in', 'IN'),\n",
       " ('Cupertino', 'NNP'),\n",
       " ('.', '.'),\n",
       " ('The', 'DT'),\n",
       " ('iPhone', 'NN'),\n",
       " (',', ','),\n",
       " ('iPad', 'NN'),\n",
       " (',', ','),\n",
       " ('and', 'CC'),\n",
       " ('Mac', 'NNP'),\n",
       " ('are', 'VBP'),\n",
       " ('popular', 'JJ'),\n",
       " ('products', 'NNS'),\n",
       " ('manufactured', 'VBN'),\n",
       " ('by', 'IN'),\n",
       " ('Apple', 'NNP'),\n",
       " ('.', '.')]"
      ]
     },
     "execution_count": 31,
     "metadata": {},
     "output_type": "execute_result"
    }
   ],
   "source": [
    "pos_tags"
   ]
  },
  {
   "cell_type": "markdown",
   "metadata": {},
   "source": [
    "Another method: but not work on my  side."
   ]
  },
  {
   "cell_type": "code",
   "execution_count": null,
   "metadata": {},
   "outputs": [],
   "source": [
    "import spacy\n",
    "\n",
    "# Load the spaCy English language model\n",
    "nlp = spacy.load(\"en_core_web_sm\")\n",
    "\n",
    "# Sample text\n",
    "text = (\n",
    "    \"Apple Inc. was founded by Steve Jobs, Steve Wozniak, and Ronald Wayne on April 1, 1976, \"\n",
    "    \"in Cupertino, California. It is a multinational technology company headquartered in \"\n",
    "    \"Cupertino. The iPhone, iPad, and Mac are popular products manufactured by Apple.\"\n",
    ")\n",
    "\n",
    "# Process the text with spaCy\n",
    "doc = nlp(text)\n",
    "\n",
    "# Print the named entities and their labels\n",
    "for ent in doc.ents:\n",
    "    print(f\"{ent.text} - {ent.label_}\")\n"
   ]
  }
 ],
 "metadata": {
  "kernelspec": {
   "display_name": "Python 3",
   "language": "python",
   "name": "python3"
  },
  "language_info": {
   "codemirror_mode": {
    "name": "ipython",
    "version": 3
   },
   "file_extension": ".py",
   "mimetype": "text/x-python",
   "name": "python",
   "nbconvert_exporter": "python",
   "pygments_lexer": "ipython3",
   "version": "3.10.11"
  }
 },
 "nbformat": 4,
 "nbformat_minor": 2
}
