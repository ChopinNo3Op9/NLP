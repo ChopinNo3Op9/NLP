{
 "cells": [
  {
   "cell_type": "code",
   "execution_count": 8,
   "metadata": {},
   "outputs": [],
   "source": [
    "from gensim import corpora, models\n",
    "from pprint import pprint"
   ]
  },
  {
   "cell_type": "code",
   "execution_count": 9,
   "metadata": {},
   "outputs": [
    {
     "name": "stdout",
     "output_type": "stream",
     "text": [
      "[(0,\n",
      "  '0.053*\"topic\" + 0.053*\"dirichlet\" + 0.053*\"popular\" + 0.053*\"latent\" + '\n",
      "  '0.053*\"modeling.\" + 0.053*\"algorithm\" + 0.053*\"allocation\" + 0.053*\"for\" + '\n",
      "  '0.053*\"a\" + 0.053*\"is\"'),\n",
      " (1,\n",
      "  '0.074*\"is\" + 0.074*\"a\" + 0.040*\"artificial\" + 0.040*\"language\" + '\n",
      "  '0.040*\"used\" + 0.040*\"to\" + 0.040*\"of\" + 0.023*\"intelligent\" + '\n",
      "  '0.023*\"field\" + 0.023*\"agents.\"'),\n",
      " (2,\n",
      "  '0.053*\"machine\" + 0.053*\"of\" + 0.053*\"to\" + 0.053*\"algorithms\" + '\n",
      "  '0.053*\"learning\" + 0.053*\"predictions.\" + 0.053*\"make\" + 0.053*\"use\" + '\n",
      "  '0.053*\"the\" + 0.053*\"involves\"')]\n"
     ]
    }
   ],
   "source": [
    "# Sample documents\n",
    "documents = [\n",
    "    \"Natural language processing is a subfield of artificial intelligence.\",\n",
    "    \"Topic modeling is used to identify topics within a collection of documents.\",\n",
    "    \"Latent Dirichlet Allocation is a popular algorithm for topic modeling.\",\n",
    "    \"Python is a programming language commonly used in machine learning.\",\n",
    "    \"Machine learning involves the use of algorithms to make predictions.\",\n",
    "    \"Artificial intelligence is a broad field that aims to create intelligent agents.\",\n",
    "]\n",
    "\n",
    "# Tokenize and preprocess the documents\n",
    "tokenized_documents = [document.lower().split() for document in documents]\n",
    "\n",
    "# Create a dictionary representation of the documents\n",
    "dictionary = corpora.Dictionary(tokenized_documents)\n",
    "\n",
    "# Create a bag-of-words corpus\n",
    "corpus = [dictionary.doc2bow(doc) for doc in tokenized_documents]\n",
    "\n",
    "# Apply LDA (Latent Dirichlet Allocation) model\n",
    "lda_model = models.LdaModel(corpus, num_topics=3, id2word=dictionary, passes=15)\n",
    "\n",
    "# Print the topics and associated words\n",
    "pprint(lda_model.print_topics())"
   ]
  },
  {
   "cell_type": "code",
   "execution_count": 10,
   "metadata": {},
   "outputs": [
    {
     "data": {
      "text/plain": [
       "[[(0, 1), (1, 1), (2, 1), (3, 1), (4, 1), (5, 1), (6, 1), (7, 1), (8, 1)],\n",
       " [(0, 1),\n",
       "  (3, 1),\n",
       "  (6, 1),\n",
       "  (9, 1),\n",
       "  (10, 1),\n",
       "  (11, 1),\n",
       "  (12, 1),\n",
       "  (13, 1),\n",
       "  (14, 1),\n",
       "  (15, 1),\n",
       "  (16, 1),\n",
       "  (17, 1)],\n",
       " [(0, 1),\n",
       "  (3, 1),\n",
       "  (14, 1),\n",
       "  (18, 1),\n",
       "  (19, 1),\n",
       "  (20, 1),\n",
       "  (21, 1),\n",
       "  (22, 1),\n",
       "  (23, 1),\n",
       "  (24, 1)],\n",
       " [(0, 1),\n",
       "  (3, 1),\n",
       "  (4, 1),\n",
       "  (16, 1),\n",
       "  (25, 1),\n",
       "  (26, 1),\n",
       "  (27, 1),\n",
       "  (28, 1),\n",
       "  (29, 1),\n",
       "  (30, 1)],\n",
       " [(6, 1),\n",
       "  (13, 1),\n",
       "  (28, 1),\n",
       "  (31, 1),\n",
       "  (32, 1),\n",
       "  (33, 1),\n",
       "  (34, 1),\n",
       "  (35, 1),\n",
       "  (36, 1),\n",
       "  (37, 1)],\n",
       " [(0, 1),\n",
       "  (1, 1),\n",
       "  (3, 1),\n",
       "  (13, 1),\n",
       "  (38, 1),\n",
       "  (39, 1),\n",
       "  (40, 1),\n",
       "  (41, 1),\n",
       "  (42, 1),\n",
       "  (43, 1),\n",
       "  (44, 1),\n",
       "  (45, 1)]]"
      ]
     },
     "execution_count": 10,
     "metadata": {},
     "output_type": "execute_result"
    }
   ],
   "source": [
    "corpus"
   ]
  }
 ],
 "metadata": {
  "kernelspec": {
   "display_name": "Python 3",
   "language": "python",
   "name": "python3"
  },
  "language_info": {
   "codemirror_mode": {
    "name": "ipython",
    "version": 3
   },
   "file_extension": ".py",
   "mimetype": "text/x-python",
   "name": "python",
   "nbconvert_exporter": "python",
   "pygments_lexer": "ipython3",
   "version": "3.10.11"
  }
 },
 "nbformat": 4,
 "nbformat_minor": 2
}
